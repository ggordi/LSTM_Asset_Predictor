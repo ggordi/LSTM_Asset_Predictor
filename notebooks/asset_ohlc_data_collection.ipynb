{
  "nbformat": 4,
  "nbformat_minor": 0,
  "metadata": {
    "colab": {
      "provenance": [],
      "collapsed_sections": [
        "rfo5Y47xYwFX"
      ]
    },
    "kernelspec": {
      "name": "python3",
      "display_name": "Python 3"
    },
    "language_info": {
      "name": "python"
    }
  },
  "cells": [
    {
      "cell_type": "markdown",
      "source": [
        "# 0. Data Collection for Financial Data\n",
        "Collecting OHLC (open, high, low, close) and volume data using the Yahoo Finance API to curate a dataset for time series modeling, based on a short-term 5-day buy/sell classification approach (rolling window testing intended use).\n"
      ],
      "metadata": {
        "id": "1-jf_0z2YID2"
      }
    },
    {
      "cell_type": "markdown",
      "source": [
        "# 1. Required Libraries"
      ],
      "metadata": {
        "id": "rfo5Y47xYwFX"
      }
    },
    {
      "cell_type": "code",
      "execution_count": 8,
      "metadata": {
        "colab": {
          "base_uri": "https://localhost:8080/"
        },
        "id": "vv1JUb7OX-v8",
        "outputId": "b13d40d6-272f-45a9-d939-98cb4237e369"
      },
      "outputs": [
        {
          "output_type": "stream",
          "name": "stdout",
          "text": [
            "Requirement already satisfied: yfinance in /usr/local/lib/python3.11/dist-packages (0.2.65)\n",
            "Requirement already satisfied: pandas>=1.3.0 in /usr/local/lib/python3.11/dist-packages (from yfinance) (2.2.2)\n",
            "Requirement already satisfied: numpy>=1.16.5 in /usr/local/lib/python3.11/dist-packages (from yfinance) (1.23.5)\n",
            "Requirement already satisfied: requests>=2.31 in /usr/local/lib/python3.11/dist-packages (from yfinance) (2.32.3)\n",
            "Requirement already satisfied: multitasking>=0.0.7 in /usr/local/lib/python3.11/dist-packages (from yfinance) (0.0.11)\n",
            "Requirement already satisfied: platformdirs>=2.0.0 in /usr/local/lib/python3.11/dist-packages (from yfinance) (4.3.8)\n",
            "Requirement already satisfied: pytz>=2022.5 in /usr/local/lib/python3.11/dist-packages (from yfinance) (2025.2)\n",
            "Requirement already satisfied: frozendict>=2.3.4 in /usr/local/lib/python3.11/dist-packages (from yfinance) (2.4.6)\n",
            "Requirement already satisfied: peewee>=3.16.2 in /usr/local/lib/python3.11/dist-packages (from yfinance) (3.18.2)\n",
            "Requirement already satisfied: beautifulsoup4>=4.11.1 in /usr/local/lib/python3.11/dist-packages (from yfinance) (4.13.4)\n",
            "Requirement already satisfied: curl_cffi>=0.7 in /usr/local/lib/python3.11/dist-packages (from yfinance) (0.11.4)\n",
            "Requirement already satisfied: protobuf>=3.19.0 in /usr/local/lib/python3.11/dist-packages (from yfinance) (5.29.5)\n",
            "Requirement already satisfied: websockets>=13.0 in /usr/local/lib/python3.11/dist-packages (from yfinance) (15.0.1)\n",
            "Requirement already satisfied: soupsieve>1.2 in /usr/local/lib/python3.11/dist-packages (from beautifulsoup4>=4.11.1->yfinance) (2.7)\n",
            "Requirement already satisfied: typing-extensions>=4.0.0 in /usr/local/lib/python3.11/dist-packages (from beautifulsoup4>=4.11.1->yfinance) (4.14.1)\n",
            "Requirement already satisfied: cffi>=1.12.0 in /usr/local/lib/python3.11/dist-packages (from curl_cffi>=0.7->yfinance) (1.17.1)\n",
            "Requirement already satisfied: certifi>=2024.2.2 in /usr/local/lib/python3.11/dist-packages (from curl_cffi>=0.7->yfinance) (2025.7.9)\n",
            "Requirement already satisfied: python-dateutil>=2.8.2 in /usr/local/lib/python3.11/dist-packages (from pandas>=1.3.0->yfinance) (2.9.0.post0)\n",
            "Requirement already satisfied: tzdata>=2022.7 in /usr/local/lib/python3.11/dist-packages (from pandas>=1.3.0->yfinance) (2025.2)\n",
            "Requirement already satisfied: charset-normalizer<4,>=2 in /usr/local/lib/python3.11/dist-packages (from requests>=2.31->yfinance) (3.4.2)\n",
            "Requirement already satisfied: idna<4,>=2.5 in /usr/local/lib/python3.11/dist-packages (from requests>=2.31->yfinance) (3.10)\n",
            "Requirement already satisfied: urllib3<3,>=1.21.1 in /usr/local/lib/python3.11/dist-packages (from requests>=2.31->yfinance) (2.4.0)\n",
            "Requirement already satisfied: pycparser in /usr/local/lib/python3.11/dist-packages (from cffi>=1.12.0->curl_cffi>=0.7->yfinance) (2.22)\n",
            "Requirement already satisfied: six>=1.5 in /usr/local/lib/python3.11/dist-packages (from python-dateutil>=2.8.2->pandas>=1.3.0->yfinance) (1.17.0)\n",
            "Requirement already satisfied: pandas in /usr/local/lib/python3.11/dist-packages (2.2.2)\n",
            "Requirement already satisfied: numpy>=1.23.2 in /usr/local/lib/python3.11/dist-packages (from pandas) (1.23.5)\n",
            "Requirement already satisfied: python-dateutil>=2.8.2 in /usr/local/lib/python3.11/dist-packages (from pandas) (2.9.0.post0)\n",
            "Requirement already satisfied: pytz>=2020.1 in /usr/local/lib/python3.11/dist-packages (from pandas) (2025.2)\n",
            "Requirement already satisfied: tzdata>=2022.7 in /usr/local/lib/python3.11/dist-packages (from pandas) (2025.2)\n",
            "Requirement already satisfied: six>=1.5 in /usr/local/lib/python3.11/dist-packages (from python-dateutil>=2.8.2->pandas) (1.17.0)\n",
            "Requirement already satisfied: pandas_ta in /usr/local/lib/python3.11/dist-packages (0.3.14b0)\n",
            "Requirement already satisfied: pandas in /usr/local/lib/python3.11/dist-packages (from pandas_ta) (2.2.2)\n",
            "Requirement already satisfied: numpy>=1.23.2 in /usr/local/lib/python3.11/dist-packages (from pandas->pandas_ta) (1.23.5)\n",
            "Requirement already satisfied: python-dateutil>=2.8.2 in /usr/local/lib/python3.11/dist-packages (from pandas->pandas_ta) (2.9.0.post0)\n",
            "Requirement already satisfied: pytz>=2020.1 in /usr/local/lib/python3.11/dist-packages (from pandas->pandas_ta) (2025.2)\n",
            "Requirement already satisfied: tzdata>=2022.7 in /usr/local/lib/python3.11/dist-packages (from pandas->pandas_ta) (2025.2)\n",
            "Requirement already satisfied: six>=1.5 in /usr/local/lib/python3.11/dist-packages (from python-dateutil>=2.8.2->pandas->pandas_ta) (1.17.0)\n",
            "Requirement already satisfied: numpy==1.23.5 in /usr/local/lib/python3.11/dist-packages (1.23.5)\n"
          ]
        }
      ],
      "source": [
        "!pip install yfinance\n",
        "!pip install pandas\n",
        "!pip install pandas_ta\n",
        "!pip install numpy==1.23.5"
      ]
    },
    {
      "cell_type": "code",
      "source": [
        "import yfinance as yf\n",
        "import pandas as pd\n",
        "import numpy as np"
      ],
      "metadata": {
        "id": "qVIW9yLkYt5L"
      },
      "execution_count": 9,
      "outputs": []
    },
    {
      "cell_type": "markdown",
      "source": [
        "# 2. Raw Data Collection\n",
        "Collect OHLC & volume daily data for a number of assets."
      ],
      "metadata": {
        "id": "AnmtF1OgY5Wk"
      }
    },
    {
      "cell_type": "code",
      "source": [
        "assets = ['AAPL', 'MSFT', 'NVDA', 'WMT', 'HD', 'JPM', 'AMZN', 'BA', 'SBUX', 'UNH']"
      ],
      "metadata": {
        "id": "NoRVVysuY50n"
      },
      "execution_count": 10,
      "outputs": []
    },
    {
      "cell_type": "code",
      "source": [
        "ticker = yf.Ticker(assets[0])"
      ],
      "metadata": {
        "id": "-pchzwVebKfI"
      },
      "execution_count": 11,
      "outputs": []
    },
    {
      "cell_type": "code",
      "source": [
        "aapl = yf.download(assets[0], start='2023-12-26', end='2025-01-07')  # add a bit of date padding for a full year"
      ],
      "metadata": {
        "colab": {
          "base_uri": "https://localhost:8080/"
        },
        "id": "HXPYD9ANbLTz",
        "outputId": "d3a290b7-1dc2-47fb-c78f-0ac662d59c94"
      },
      "execution_count": 12,
      "outputs": [
        {
          "output_type": "stream",
          "name": "stderr",
          "text": [
            "/tmp/ipython-input-12-3543447890.py:1: FutureWarning: YF.download() has changed argument auto_adjust default to True\n",
            "  aapl = yf.download(assets[0], start='2023-12-26', end='2025-01-07')  # add a bit of date padding for a full year\n",
            "\r[*********************100%***********************]  1 of 1 completed\n"
          ]
        }
      ]
    },
    {
      "cell_type": "code",
      "source": [
        "aapl"
      ],
      "metadata": {
        "colab": {
          "base_uri": "https://localhost:8080/",
          "height": 486
        },
        "id": "7qRKuABbbYl8",
        "outputId": "8d541c7f-1073-43af-efda-f54ef2c46cf9"
      },
      "execution_count": 13,
      "outputs": [
        {
          "output_type": "execute_result",
          "data": {
            "text/plain": [
              "Price            Close        High         Low        Open    Volume\n",
              "Ticker            AAPL        AAPL        AAPL        AAPL      AAPL\n",
              "Date                                                                \n",
              "2023-12-26  191.646545  192.480435  191.428144  192.202472  28919300\n",
              "2023-12-27  191.745804  192.093265  189.700782  191.090614  48087700\n",
              "2023-12-28  192.172684  193.244834  191.765661  192.728610  34049900\n",
              "2023-12-29  191.130341  192.986741  190.336153  192.490376  42628800\n",
              "2024-01-02  184.290421  187.070068  182.553143  185.789438  82488700\n",
              "...                ...         ...         ...         ...       ...\n",
              "2024-12-30  251.593079  252.889953  250.146571  251.623005  35557500\n",
              "2024-12-31  249.817368  252.670486  248.829744  251.832511  39480700\n",
              "2025-01-02  243.263199  248.500565  241.238085  248.330961  55740700\n",
              "2025-01-03  242.774368  243.592387  241.307905  242.774368  40244100\n",
              "2025-01-06  244.410416  246.734810  242.614744  243.722074  45045600\n",
              "\n",
              "[259 rows x 5 columns]"
            ],
            "text/html": [
              "\n",
              "  <div id=\"df-5a0ce2f6-3b3a-4352-bf29-fffb62660f98\" class=\"colab-df-container\">\n",
              "    <div>\n",
              "<style scoped>\n",
              "    .dataframe tbody tr th:only-of-type {\n",
              "        vertical-align: middle;\n",
              "    }\n",
              "\n",
              "    .dataframe tbody tr th {\n",
              "        vertical-align: top;\n",
              "    }\n",
              "\n",
              "    .dataframe thead tr th {\n",
              "        text-align: left;\n",
              "    }\n",
              "\n",
              "    .dataframe thead tr:last-of-type th {\n",
              "        text-align: right;\n",
              "    }\n",
              "</style>\n",
              "<table border=\"1\" class=\"dataframe\">\n",
              "  <thead>\n",
              "    <tr>\n",
              "      <th>Price</th>\n",
              "      <th>Close</th>\n",
              "      <th>High</th>\n",
              "      <th>Low</th>\n",
              "      <th>Open</th>\n",
              "      <th>Volume</th>\n",
              "    </tr>\n",
              "    <tr>\n",
              "      <th>Ticker</th>\n",
              "      <th>AAPL</th>\n",
              "      <th>AAPL</th>\n",
              "      <th>AAPL</th>\n",
              "      <th>AAPL</th>\n",
              "      <th>AAPL</th>\n",
              "    </tr>\n",
              "    <tr>\n",
              "      <th>Date</th>\n",
              "      <th></th>\n",
              "      <th></th>\n",
              "      <th></th>\n",
              "      <th></th>\n",
              "      <th></th>\n",
              "    </tr>\n",
              "  </thead>\n",
              "  <tbody>\n",
              "    <tr>\n",
              "      <th>2023-12-26</th>\n",
              "      <td>191.646545</td>\n",
              "      <td>192.480435</td>\n",
              "      <td>191.428144</td>\n",
              "      <td>192.202472</td>\n",
              "      <td>28919300</td>\n",
              "    </tr>\n",
              "    <tr>\n",
              "      <th>2023-12-27</th>\n",
              "      <td>191.745804</td>\n",
              "      <td>192.093265</td>\n",
              "      <td>189.700782</td>\n",
              "      <td>191.090614</td>\n",
              "      <td>48087700</td>\n",
              "    </tr>\n",
              "    <tr>\n",
              "      <th>2023-12-28</th>\n",
              "      <td>192.172684</td>\n",
              "      <td>193.244834</td>\n",
              "      <td>191.765661</td>\n",
              "      <td>192.728610</td>\n",
              "      <td>34049900</td>\n",
              "    </tr>\n",
              "    <tr>\n",
              "      <th>2023-12-29</th>\n",
              "      <td>191.130341</td>\n",
              "      <td>192.986741</td>\n",
              "      <td>190.336153</td>\n",
              "      <td>192.490376</td>\n",
              "      <td>42628800</td>\n",
              "    </tr>\n",
              "    <tr>\n",
              "      <th>2024-01-02</th>\n",
              "      <td>184.290421</td>\n",
              "      <td>187.070068</td>\n",
              "      <td>182.553143</td>\n",
              "      <td>185.789438</td>\n",
              "      <td>82488700</td>\n",
              "    </tr>\n",
              "    <tr>\n",
              "      <th>...</th>\n",
              "      <td>...</td>\n",
              "      <td>...</td>\n",
              "      <td>...</td>\n",
              "      <td>...</td>\n",
              "      <td>...</td>\n",
              "    </tr>\n",
              "    <tr>\n",
              "      <th>2024-12-30</th>\n",
              "      <td>251.593079</td>\n",
              "      <td>252.889953</td>\n",
              "      <td>250.146571</td>\n",
              "      <td>251.623005</td>\n",
              "      <td>35557500</td>\n",
              "    </tr>\n",
              "    <tr>\n",
              "      <th>2024-12-31</th>\n",
              "      <td>249.817368</td>\n",
              "      <td>252.670486</td>\n",
              "      <td>248.829744</td>\n",
              "      <td>251.832511</td>\n",
              "      <td>39480700</td>\n",
              "    </tr>\n",
              "    <tr>\n",
              "      <th>2025-01-02</th>\n",
              "      <td>243.263199</td>\n",
              "      <td>248.500565</td>\n",
              "      <td>241.238085</td>\n",
              "      <td>248.330961</td>\n",
              "      <td>55740700</td>\n",
              "    </tr>\n",
              "    <tr>\n",
              "      <th>2025-01-03</th>\n",
              "      <td>242.774368</td>\n",
              "      <td>243.592387</td>\n",
              "      <td>241.307905</td>\n",
              "      <td>242.774368</td>\n",
              "      <td>40244100</td>\n",
              "    </tr>\n",
              "    <tr>\n",
              "      <th>2025-01-06</th>\n",
              "      <td>244.410416</td>\n",
              "      <td>246.734810</td>\n",
              "      <td>242.614744</td>\n",
              "      <td>243.722074</td>\n",
              "      <td>45045600</td>\n",
              "    </tr>\n",
              "  </tbody>\n",
              "</table>\n",
              "<p>259 rows × 5 columns</p>\n",
              "</div>\n",
              "    <div class=\"colab-df-buttons\">\n",
              "\n",
              "  <div class=\"colab-df-container\">\n",
              "    <button class=\"colab-df-convert\" onclick=\"convertToInteractive('df-5a0ce2f6-3b3a-4352-bf29-fffb62660f98')\"\n",
              "            title=\"Convert this dataframe to an interactive table.\"\n",
              "            style=\"display:none;\">\n",
              "\n",
              "  <svg xmlns=\"http://www.w3.org/2000/svg\" height=\"24px\" viewBox=\"0 -960 960 960\">\n",
              "    <path d=\"M120-120v-720h720v720H120Zm60-500h600v-160H180v160Zm220 220h160v-160H400v160Zm0 220h160v-160H400v160ZM180-400h160v-160H180v160Zm440 0h160v-160H620v160ZM180-180h160v-160H180v160Zm440 0h160v-160H620v160Z\"/>\n",
              "  </svg>\n",
              "    </button>\n",
              "\n",
              "  <style>\n",
              "    .colab-df-container {\n",
              "      display:flex;\n",
              "      gap: 12px;\n",
              "    }\n",
              "\n",
              "    .colab-df-convert {\n",
              "      background-color: #E8F0FE;\n",
              "      border: none;\n",
              "      border-radius: 50%;\n",
              "      cursor: pointer;\n",
              "      display: none;\n",
              "      fill: #1967D2;\n",
              "      height: 32px;\n",
              "      padding: 0 0 0 0;\n",
              "      width: 32px;\n",
              "    }\n",
              "\n",
              "    .colab-df-convert:hover {\n",
              "      background-color: #E2EBFA;\n",
              "      box-shadow: 0px 1px 2px rgba(60, 64, 67, 0.3), 0px 1px 3px 1px rgba(60, 64, 67, 0.15);\n",
              "      fill: #174EA6;\n",
              "    }\n",
              "\n",
              "    .colab-df-buttons div {\n",
              "      margin-bottom: 4px;\n",
              "    }\n",
              "\n",
              "    [theme=dark] .colab-df-convert {\n",
              "      background-color: #3B4455;\n",
              "      fill: #D2E3FC;\n",
              "    }\n",
              "\n",
              "    [theme=dark] .colab-df-convert:hover {\n",
              "      background-color: #434B5C;\n",
              "      box-shadow: 0px 1px 3px 1px rgba(0, 0, 0, 0.15);\n",
              "      filter: drop-shadow(0px 1px 2px rgba(0, 0, 0, 0.3));\n",
              "      fill: #FFFFFF;\n",
              "    }\n",
              "  </style>\n",
              "\n",
              "    <script>\n",
              "      const buttonEl =\n",
              "        document.querySelector('#df-5a0ce2f6-3b3a-4352-bf29-fffb62660f98 button.colab-df-convert');\n",
              "      buttonEl.style.display =\n",
              "        google.colab.kernel.accessAllowed ? 'block' : 'none';\n",
              "\n",
              "      async function convertToInteractive(key) {\n",
              "        const element = document.querySelector('#df-5a0ce2f6-3b3a-4352-bf29-fffb62660f98');\n",
              "        const dataTable =\n",
              "          await google.colab.kernel.invokeFunction('convertToInteractive',\n",
              "                                                    [key], {});\n",
              "        if (!dataTable) return;\n",
              "\n",
              "        const docLinkHtml = 'Like what you see? Visit the ' +\n",
              "          '<a target=\"_blank\" href=https://colab.research.google.com/notebooks/data_table.ipynb>data table notebook</a>'\n",
              "          + ' to learn more about interactive tables.';\n",
              "        element.innerHTML = '';\n",
              "        dataTable['output_type'] = 'display_data';\n",
              "        await google.colab.output.renderOutput(dataTable, element);\n",
              "        const docLink = document.createElement('div');\n",
              "        docLink.innerHTML = docLinkHtml;\n",
              "        element.appendChild(docLink);\n",
              "      }\n",
              "    </script>\n",
              "  </div>\n",
              "\n",
              "\n",
              "    <div id=\"df-e59d0ca9-a385-46d7-824c-3d9c22ad9a77\">\n",
              "      <button class=\"colab-df-quickchart\" onclick=\"quickchart('df-e59d0ca9-a385-46d7-824c-3d9c22ad9a77')\"\n",
              "                title=\"Suggest charts\"\n",
              "                style=\"display:none;\">\n",
              "\n",
              "<svg xmlns=\"http://www.w3.org/2000/svg\" height=\"24px\"viewBox=\"0 0 24 24\"\n",
              "     width=\"24px\">\n",
              "    <g>\n",
              "        <path d=\"M19 3H5c-1.1 0-2 .9-2 2v14c0 1.1.9 2 2 2h14c1.1 0 2-.9 2-2V5c0-1.1-.9-2-2-2zM9 17H7v-7h2v7zm4 0h-2V7h2v10zm4 0h-2v-4h2v4z\"/>\n",
              "    </g>\n",
              "</svg>\n",
              "      </button>\n",
              "\n",
              "<style>\n",
              "  .colab-df-quickchart {\n",
              "      --bg-color: #E8F0FE;\n",
              "      --fill-color: #1967D2;\n",
              "      --hover-bg-color: #E2EBFA;\n",
              "      --hover-fill-color: #174EA6;\n",
              "      --disabled-fill-color: #AAA;\n",
              "      --disabled-bg-color: #DDD;\n",
              "  }\n",
              "\n",
              "  [theme=dark] .colab-df-quickchart {\n",
              "      --bg-color: #3B4455;\n",
              "      --fill-color: #D2E3FC;\n",
              "      --hover-bg-color: #434B5C;\n",
              "      --hover-fill-color: #FFFFFF;\n",
              "      --disabled-bg-color: #3B4455;\n",
              "      --disabled-fill-color: #666;\n",
              "  }\n",
              "\n",
              "  .colab-df-quickchart {\n",
              "    background-color: var(--bg-color);\n",
              "    border: none;\n",
              "    border-radius: 50%;\n",
              "    cursor: pointer;\n",
              "    display: none;\n",
              "    fill: var(--fill-color);\n",
              "    height: 32px;\n",
              "    padding: 0;\n",
              "    width: 32px;\n",
              "  }\n",
              "\n",
              "  .colab-df-quickchart:hover {\n",
              "    background-color: var(--hover-bg-color);\n",
              "    box-shadow: 0 1px 2px rgba(60, 64, 67, 0.3), 0 1px 3px 1px rgba(60, 64, 67, 0.15);\n",
              "    fill: var(--button-hover-fill-color);\n",
              "  }\n",
              "\n",
              "  .colab-df-quickchart-complete:disabled,\n",
              "  .colab-df-quickchart-complete:disabled:hover {\n",
              "    background-color: var(--disabled-bg-color);\n",
              "    fill: var(--disabled-fill-color);\n",
              "    box-shadow: none;\n",
              "  }\n",
              "\n",
              "  .colab-df-spinner {\n",
              "    border: 2px solid var(--fill-color);\n",
              "    border-color: transparent;\n",
              "    border-bottom-color: var(--fill-color);\n",
              "    animation:\n",
              "      spin 1s steps(1) infinite;\n",
              "  }\n",
              "\n",
              "  @keyframes spin {\n",
              "    0% {\n",
              "      border-color: transparent;\n",
              "      border-bottom-color: var(--fill-color);\n",
              "      border-left-color: var(--fill-color);\n",
              "    }\n",
              "    20% {\n",
              "      border-color: transparent;\n",
              "      border-left-color: var(--fill-color);\n",
              "      border-top-color: var(--fill-color);\n",
              "    }\n",
              "    30% {\n",
              "      border-color: transparent;\n",
              "      border-left-color: var(--fill-color);\n",
              "      border-top-color: var(--fill-color);\n",
              "      border-right-color: var(--fill-color);\n",
              "    }\n",
              "    40% {\n",
              "      border-color: transparent;\n",
              "      border-right-color: var(--fill-color);\n",
              "      border-top-color: var(--fill-color);\n",
              "    }\n",
              "    60% {\n",
              "      border-color: transparent;\n",
              "      border-right-color: var(--fill-color);\n",
              "    }\n",
              "    80% {\n",
              "      border-color: transparent;\n",
              "      border-right-color: var(--fill-color);\n",
              "      border-bottom-color: var(--fill-color);\n",
              "    }\n",
              "    90% {\n",
              "      border-color: transparent;\n",
              "      border-bottom-color: var(--fill-color);\n",
              "    }\n",
              "  }\n",
              "</style>\n",
              "\n",
              "      <script>\n",
              "        async function quickchart(key) {\n",
              "          const quickchartButtonEl =\n",
              "            document.querySelector('#' + key + ' button');\n",
              "          quickchartButtonEl.disabled = true;  // To prevent multiple clicks.\n",
              "          quickchartButtonEl.classList.add('colab-df-spinner');\n",
              "          try {\n",
              "            const charts = await google.colab.kernel.invokeFunction(\n",
              "                'suggestCharts', [key], {});\n",
              "          } catch (error) {\n",
              "            console.error('Error during call to suggestCharts:', error);\n",
              "          }\n",
              "          quickchartButtonEl.classList.remove('colab-df-spinner');\n",
              "          quickchartButtonEl.classList.add('colab-df-quickchart-complete');\n",
              "        }\n",
              "        (() => {\n",
              "          let quickchartButtonEl =\n",
              "            document.querySelector('#df-e59d0ca9-a385-46d7-824c-3d9c22ad9a77 button');\n",
              "          quickchartButtonEl.style.display =\n",
              "            google.colab.kernel.accessAllowed ? 'block' : 'none';\n",
              "        })();\n",
              "      </script>\n",
              "    </div>\n",
              "\n",
              "  <div id=\"id_d326672a-1a95-48e1-b3d0-19d1eac62f34\">\n",
              "    <style>\n",
              "      .colab-df-generate {\n",
              "        background-color: #E8F0FE;\n",
              "        border: none;\n",
              "        border-radius: 50%;\n",
              "        cursor: pointer;\n",
              "        display: none;\n",
              "        fill: #1967D2;\n",
              "        height: 32px;\n",
              "        padding: 0 0 0 0;\n",
              "        width: 32px;\n",
              "      }\n",
              "\n",
              "      .colab-df-generate:hover {\n",
              "        background-color: #E2EBFA;\n",
              "        box-shadow: 0px 1px 2px rgba(60, 64, 67, 0.3), 0px 1px 3px 1px rgba(60, 64, 67, 0.15);\n",
              "        fill: #174EA6;\n",
              "      }\n",
              "\n",
              "      [theme=dark] .colab-df-generate {\n",
              "        background-color: #3B4455;\n",
              "        fill: #D2E3FC;\n",
              "      }\n",
              "\n",
              "      [theme=dark] .colab-df-generate:hover {\n",
              "        background-color: #434B5C;\n",
              "        box-shadow: 0px 1px 3px 1px rgba(0, 0, 0, 0.15);\n",
              "        filter: drop-shadow(0px 1px 2px rgba(0, 0, 0, 0.3));\n",
              "        fill: #FFFFFF;\n",
              "      }\n",
              "    </style>\n",
              "    <button class=\"colab-df-generate\" onclick=\"generateWithVariable('aapl')\"\n",
              "            title=\"Generate code using this dataframe.\"\n",
              "            style=\"display:none;\">\n",
              "\n",
              "  <svg xmlns=\"http://www.w3.org/2000/svg\" height=\"24px\"viewBox=\"0 0 24 24\"\n",
              "       width=\"24px\">\n",
              "    <path d=\"M7,19H8.4L18.45,9,17,7.55,7,17.6ZM5,21V16.75L18.45,3.32a2,2,0,0,1,2.83,0l1.4,1.43a1.91,1.91,0,0,1,.58,1.4,1.91,1.91,0,0,1-.58,1.4L9.25,21ZM18.45,9,17,7.55Zm-12,3A5.31,5.31,0,0,0,4.9,8.1,5.31,5.31,0,0,0,1,6.5,5.31,5.31,0,0,0,4.9,4.9,5.31,5.31,0,0,0,6.5,1,5.31,5.31,0,0,0,8.1,4.9,5.31,5.31,0,0,0,12,6.5,5.46,5.46,0,0,0,6.5,12Z\"/>\n",
              "  </svg>\n",
              "    </button>\n",
              "    <script>\n",
              "      (() => {\n",
              "      const buttonEl =\n",
              "        document.querySelector('#id_d326672a-1a95-48e1-b3d0-19d1eac62f34 button.colab-df-generate');\n",
              "      buttonEl.style.display =\n",
              "        google.colab.kernel.accessAllowed ? 'block' : 'none';\n",
              "\n",
              "      buttonEl.onclick = () => {\n",
              "        google.colab.notebook.generateWithVariable('aapl');\n",
              "      }\n",
              "      })();\n",
              "    </script>\n",
              "  </div>\n",
              "\n",
              "    </div>\n",
              "  </div>\n"
            ],
            "application/vnd.google.colaboratory.intrinsic+json": {
              "type": "dataframe",
              "variable_name": "aapl",
              "summary": "{\n  \"name\": \"aapl\",\n  \"rows\": 259,\n  \"fields\": [\n    {\n      \"column\": [\n        \"Date\",\n        \"\"\n      ],\n      \"properties\": {\n        \"dtype\": \"date\",\n        \"min\": \"2023-12-26 00:00:00\",\n        \"max\": \"2025-01-06 00:00:00\",\n        \"num_unique_values\": 259,\n        \"samples\": [\n          \"2024-04-02 00:00:00\",\n          \"2024-03-01 00:00:00\",\n          \"2024-01-09 00:00:00\"\n        ],\n        \"semantic_type\": \"\",\n        \"description\": \"\"\n      }\n    },\n    {\n      \"column\": [\n        \"Close\",\n        \"AAPL\"\n      ],\n      \"properties\": {\n        \"dtype\": \"number\",\n        \"std\": 25.683017364649057,\n        \"min\": 164.00946044921875,\n        \"max\": 258.39666748046875,\n        \"num_unique_values\": 256,\n        \"samples\": [\n          232.30960083007812,\n          180.58753967285156,\n          164.00946044921875\n        ],\n        \"semantic_type\": \"\",\n        \"description\": \"\"\n      }\n    },\n    {\n      \"column\": [\n        \"High\",\n        \"AAPL\"\n      ],\n      \"properties\": {\n        \"dtype\": \"number\",\n        \"std\": 25.78495330220431,\n        \"min\": 165.40104980433753,\n        \"max\": 259.47408555117545,\n        \"num_unique_values\": 259,\n        \"samples\": [\n          168.3234297194346,\n          179.44625436004063,\n          183.80397397190293\n        ],\n        \"semantic_type\": \"\",\n        \"description\": \"\"\n      }\n    },\n    {\n      \"column\": [\n        \"Low\",\n        \"AAPL\"\n      ],\n      \"properties\": {\n        \"dtype\": \"number\",\n        \"std\": 25.317369769723815,\n        \"min\": 163.09498527768548,\n        \"max\": 257.0100282923795,\n        \"num_unique_values\": 259,\n        \"samples\": [\n          167.22009256480143,\n          176.31517027538303,\n          181.40156892129536\n        ],\n        \"semantic_type\": \"\",\n        \"description\": \"\"\n      }\n    },\n    {\n      \"column\": [\n        \"Open\",\n        \"AAPL\"\n      ],\n      \"properties\": {\n        \"dtype\": \"number\",\n        \"std\": 25.541837458911072,\n        \"min\": 164.3573882766078,\n        \"max\": 257.56867823862046,\n        \"num_unique_values\": 259,\n        \"samples\": [\n          168.0649959882119,\n          178.47214167082092,\n          182.58292017691045\n        ],\n        \"semantic_type\": \"\",\n        \"description\": \"\"\n      }\n    },\n    {\n      \"column\": [\n        \"Volume\",\n        \"AAPL\"\n      ],\n      \"properties\": {\n        \"dtype\": \"number\",\n        \"std\": 30539632,\n        \"min\": 23234700,\n        \"max\": 318679900,\n        \"num_unique_values\": 259,\n        \"samples\": [\n          49329500,\n          73488000,\n          42841800\n        ],\n        \"semantic_type\": \"\",\n        \"description\": \"\"\n      }\n    }\n  ]\n}"
            }
          },
          "metadata": {},
          "execution_count": 13
        }
      ]
    },
    {
      "cell_type": "markdown",
      "source": [
        "# 3. Trend, Momentum, and Volume Indicators\n",
        "Derive technical indicators as new features (columns) for the dataset, keeping in mind which ones are relevant to a short-term 5-day prediction"
      ],
      "metadata": {
        "id": "VhTXMporceAf"
      }
    },
    {
      "cell_type": "code",
      "source": [
        "import pandas_ta as ta  # use the pandas technical analysis extension for faster feature engineering"
      ],
      "metadata": {
        "id": "bsHgRJ7xdhPV"
      },
      "execution_count": 14,
      "outputs": []
    },
    {
      "cell_type": "markdown",
      "source": [
        "## 3.1 Trend Indicators"
      ],
      "metadata": {
        "id": "nPsMZ1Focvkj"
      }
    },
    {
      "cell_type": "code",
      "source": [
        "def encode_ti(df):  # takes in a df whose columns include 'Open', 'High', 'Low', 'Close', 'Volume'\n",
        "  df['sma'] =  ta.sma(df['Close'].squeeze(), length=5)  # simple moving average for 5-day period\n",
        "  df['ema'] =  ta.ema(df['Close'].squeeze(), length=5)  # exponential moving average for 5-day period, weights closer datapoints more highly\n",
        "  df['wma'] = ta.wma(df['Close'].squeeze(), length=5)  # weighted moving average for 5-day period, same effect as above but linear\n",
        "  return df"
      ],
      "metadata": {
        "id": "5yWp_jZLchmd"
      },
      "execution_count": 15,
      "outputs": []
    },
    {
      "cell_type": "markdown",
      "source": [
        "## 3.2 Momentum Indicators"
      ],
      "metadata": {
        "id": "zk241RJKetu0"
      }
    },
    {
      "cell_type": "code",
      "source": [
        "def encode_mi(df):  # takes in a df whose columns include 'Open', 'High', 'Low', 'Close', 'Volume'\n",
        "  df['rsi_5'] = ta.rsi(df['Close'].squeeze(), length=5)  # a short-term version of the relative strength index\n",
        "  df['mtm_5'] = ta.mom(df['Close'].squeeze(), length=5)  # price difference from 5 days ago\n",
        "  df['cci_5'] = ta.cci(df['High'].squeeze(), df['Low'].squeeze(), df['Close'].squeeze(), length=5)  # measure deviation from avg price\n",
        "  df['wr_5']  = ta.willr(df['High'].squeeze(), df['Low'].squeeze(), df['Close'].squeeze(), length=5)  # track overbought/oversold conditions"
      ],
      "metadata": {
        "id": "Qv0pg3y3eagN"
      },
      "execution_count": 16,
      "outputs": []
    },
    {
      "cell_type": "markdown",
      "source": [
        "## 3.3 Volatility Indicators"
      ],
      "metadata": {
        "id": "4tgLCgEUfVVq"
      }
    },
    {
      "cell_type": "code",
      "source": [
        "def encode_vi(df):  # takes in a df whose columns include 'Open', 'High', 'Low', 'Close', 'Volume'\n",
        "  df['atr_5'] = ta.atr(df['High'].squeeze(), df['Low'].squeeze(), df['Close'].squeeze(), length=5)  # a short-term version of average true range"
      ],
      "metadata": {
        "id": "y-12kkcQesw1"
      },
      "execution_count": 17,
      "outputs": []
    },
    {
      "cell_type": "markdown",
      "source": [],
      "metadata": {
        "id": "NrRr_P4GkLf3"
      }
    },
    {
      "cell_type": "markdown",
      "source": [
        "# 4. Target Variable Engineering"
      ],
      "metadata": {
        "id": "EXZEEq3rfhcq"
      }
    },
    {
      "cell_type": "code",
      "source": [
        "def encode_all(df):  # takes in a df whose columns include 'Open', 'High', 'Low', 'Close', 'Volume'\n",
        "  encode_ti(df)\n",
        "  encode_mi(df)\n",
        "  encode_vi(df)"
      ],
      "metadata": {
        "id": "-6dQmlCzfogg"
      },
      "execution_count": 18,
      "outputs": []
    },
    {
      "cell_type": "code",
      "source": [
        "def encode_target(df):  # takes in a df with a 'Close' column, classifies as a \"buy\" if >= 1% change, sell if <= -1% change, 0 (neutral) o/w\n",
        "  future_price = df['Close'].shift(-5)\n",
        "  pct_change = (future_price - df['Close']) / df['Close']\n",
        "  df['target'] = pct_change.squeeze().apply(lambda x : 1 if x >= 0.01 else -1 if x <= 0.01 else 0)"
      ],
      "metadata": {
        "id": "FWUH7wTUGyvl"
      },
      "execution_count": 19,
      "outputs": []
    },
    {
      "cell_type": "code",
      "source": [
        "encode_all(aapl)"
      ],
      "metadata": {
        "id": "ZicQRpaMfbeI"
      },
      "execution_count": 20,
      "outputs": []
    },
    {
      "cell_type": "code",
      "source": [
        "encode_target(aapl)"
      ],
      "metadata": {
        "id": "-NGv_mE_flSA"
      },
      "execution_count": 21,
      "outputs": []
    },
    {
      "cell_type": "code",
      "source": [
        "aapl.columns = [col[0] if col[1] == '' else col[0] for col in aapl.columns]"
      ],
      "metadata": {
        "id": "Xa1wkEdSIfgA"
      },
      "execution_count": 22,
      "outputs": []
    },
    {
      "cell_type": "code",
      "source": [
        "aapl.columns"
      ],
      "metadata": {
        "colab": {
          "base_uri": "https://localhost:8080/"
        },
        "id": "rHWcYPMtILPL",
        "outputId": "fc7ce9f8-b74c-4bf7-d110-361f10b0d990"
      },
      "execution_count": 23,
      "outputs": [
        {
          "output_type": "execute_result",
          "data": {
            "text/plain": [
              "Index(['Close', 'High', 'Low', 'Open', 'Volume', 'sma', 'ema', 'wma', 'rsi_5',\n",
              "       'mtm_5', 'cci_5', 'wr_5', 'atr_5', 'target'],\n",
              "      dtype='object')"
            ]
          },
          "metadata": {},
          "execution_count": 23
        }
      ]
    },
    {
      "cell_type": "code",
      "source": [
        "aapl.head()"
      ],
      "metadata": {
        "colab": {
          "base_uri": "https://localhost:8080/",
          "height": 344
        },
        "id": "t5YpH4fRHWbs",
        "outputId": "b10dc8eb-9cc9-4ebf-b988-84d527aa4ff7"
      },
      "execution_count": 24,
      "outputs": [
        {
          "output_type": "execute_result",
          "data": {
            "text/plain": [
              "                 Close        High         Low        Open    Volume  \\\n",
              "Date                                                                   \n",
              "2023-12-26  191.646545  192.480435  191.428144  192.202472  28919300   \n",
              "2023-12-27  191.745804  192.093265  189.700782  191.090614  48087700   \n",
              "2023-12-28  192.172684  193.244834  191.765661  192.728610  34049900   \n",
              "2023-12-29  191.130341  192.986741  190.336153  192.490376  42628800   \n",
              "2024-01-02  184.290421  187.070068  182.553143  185.789438  82488700   \n",
              "\n",
              "                   sma         ema         wma  rsi_5  mtm_5       cci_5  \\\n",
              "Date                                                                       \n",
              "2023-12-26         NaN         NaN         NaN    NaN    NaN         NaN   \n",
              "2023-12-27         NaN         NaN         NaN    NaN    NaN         NaN   \n",
              "2023-12-28         NaN         NaN         NaN    NaN    NaN         NaN   \n",
              "2023-12-29         NaN         NaN         NaN    NaN    NaN         NaN   \n",
              "2024-01-02  190.197159  190.197159  189.175311    NaN    NaN -166.666667   \n",
              "\n",
              "                 wr_5  atr_5  target  \n",
              "Date                                  \n",
              "2023-12-26        NaN    NaN      -1  \n",
              "2023-12-27        NaN    NaN      -1  \n",
              "2023-12-28        NaN    NaN      -1  \n",
              "2023-12-29        NaN    NaN      -1  \n",
              "2024-01-02 -83.751142    NaN      -1  "
            ],
            "text/html": [
              "\n",
              "  <div id=\"df-14211516-4a44-4093-8646-d39e2dd74202\" class=\"colab-df-container\">\n",
              "    <div>\n",
              "<style scoped>\n",
              "    .dataframe tbody tr th:only-of-type {\n",
              "        vertical-align: middle;\n",
              "    }\n",
              "\n",
              "    .dataframe tbody tr th {\n",
              "        vertical-align: top;\n",
              "    }\n",
              "\n",
              "    .dataframe thead th {\n",
              "        text-align: right;\n",
              "    }\n",
              "</style>\n",
              "<table border=\"1\" class=\"dataframe\">\n",
              "  <thead>\n",
              "    <tr style=\"text-align: right;\">\n",
              "      <th></th>\n",
              "      <th>Close</th>\n",
              "      <th>High</th>\n",
              "      <th>Low</th>\n",
              "      <th>Open</th>\n",
              "      <th>Volume</th>\n",
              "      <th>sma</th>\n",
              "      <th>ema</th>\n",
              "      <th>wma</th>\n",
              "      <th>rsi_5</th>\n",
              "      <th>mtm_5</th>\n",
              "      <th>cci_5</th>\n",
              "      <th>wr_5</th>\n",
              "      <th>atr_5</th>\n",
              "      <th>target</th>\n",
              "    </tr>\n",
              "    <tr>\n",
              "      <th>Date</th>\n",
              "      <th></th>\n",
              "      <th></th>\n",
              "      <th></th>\n",
              "      <th></th>\n",
              "      <th></th>\n",
              "      <th></th>\n",
              "      <th></th>\n",
              "      <th></th>\n",
              "      <th></th>\n",
              "      <th></th>\n",
              "      <th></th>\n",
              "      <th></th>\n",
              "      <th></th>\n",
              "      <th></th>\n",
              "    </tr>\n",
              "  </thead>\n",
              "  <tbody>\n",
              "    <tr>\n",
              "      <th>2023-12-26</th>\n",
              "      <td>191.646545</td>\n",
              "      <td>192.480435</td>\n",
              "      <td>191.428144</td>\n",
              "      <td>192.202472</td>\n",
              "      <td>28919300</td>\n",
              "      <td>NaN</td>\n",
              "      <td>NaN</td>\n",
              "      <td>NaN</td>\n",
              "      <td>NaN</td>\n",
              "      <td>NaN</td>\n",
              "      <td>NaN</td>\n",
              "      <td>NaN</td>\n",
              "      <td>NaN</td>\n",
              "      <td>-1</td>\n",
              "    </tr>\n",
              "    <tr>\n",
              "      <th>2023-12-27</th>\n",
              "      <td>191.745804</td>\n",
              "      <td>192.093265</td>\n",
              "      <td>189.700782</td>\n",
              "      <td>191.090614</td>\n",
              "      <td>48087700</td>\n",
              "      <td>NaN</td>\n",
              "      <td>NaN</td>\n",
              "      <td>NaN</td>\n",
              "      <td>NaN</td>\n",
              "      <td>NaN</td>\n",
              "      <td>NaN</td>\n",
              "      <td>NaN</td>\n",
              "      <td>NaN</td>\n",
              "      <td>-1</td>\n",
              "    </tr>\n",
              "    <tr>\n",
              "      <th>2023-12-28</th>\n",
              "      <td>192.172684</td>\n",
              "      <td>193.244834</td>\n",
              "      <td>191.765661</td>\n",
              "      <td>192.728610</td>\n",
              "      <td>34049900</td>\n",
              "      <td>NaN</td>\n",
              "      <td>NaN</td>\n",
              "      <td>NaN</td>\n",
              "      <td>NaN</td>\n",
              "      <td>NaN</td>\n",
              "      <td>NaN</td>\n",
              "      <td>NaN</td>\n",
              "      <td>NaN</td>\n",
              "      <td>-1</td>\n",
              "    </tr>\n",
              "    <tr>\n",
              "      <th>2023-12-29</th>\n",
              "      <td>191.130341</td>\n",
              "      <td>192.986741</td>\n",
              "      <td>190.336153</td>\n",
              "      <td>192.490376</td>\n",
              "      <td>42628800</td>\n",
              "      <td>NaN</td>\n",
              "      <td>NaN</td>\n",
              "      <td>NaN</td>\n",
              "      <td>NaN</td>\n",
              "      <td>NaN</td>\n",
              "      <td>NaN</td>\n",
              "      <td>NaN</td>\n",
              "      <td>NaN</td>\n",
              "      <td>-1</td>\n",
              "    </tr>\n",
              "    <tr>\n",
              "      <th>2024-01-02</th>\n",
              "      <td>184.290421</td>\n",
              "      <td>187.070068</td>\n",
              "      <td>182.553143</td>\n",
              "      <td>185.789438</td>\n",
              "      <td>82488700</td>\n",
              "      <td>190.197159</td>\n",
              "      <td>190.197159</td>\n",
              "      <td>189.175311</td>\n",
              "      <td>NaN</td>\n",
              "      <td>NaN</td>\n",
              "      <td>-166.666667</td>\n",
              "      <td>-83.751142</td>\n",
              "      <td>NaN</td>\n",
              "      <td>-1</td>\n",
              "    </tr>\n",
              "  </tbody>\n",
              "</table>\n",
              "</div>\n",
              "    <div class=\"colab-df-buttons\">\n",
              "\n",
              "  <div class=\"colab-df-container\">\n",
              "    <button class=\"colab-df-convert\" onclick=\"convertToInteractive('df-14211516-4a44-4093-8646-d39e2dd74202')\"\n",
              "            title=\"Convert this dataframe to an interactive table.\"\n",
              "            style=\"display:none;\">\n",
              "\n",
              "  <svg xmlns=\"http://www.w3.org/2000/svg\" height=\"24px\" viewBox=\"0 -960 960 960\">\n",
              "    <path d=\"M120-120v-720h720v720H120Zm60-500h600v-160H180v160Zm220 220h160v-160H400v160Zm0 220h160v-160H400v160ZM180-400h160v-160H180v160Zm440 0h160v-160H620v160ZM180-180h160v-160H180v160Zm440 0h160v-160H620v160Z\"/>\n",
              "  </svg>\n",
              "    </button>\n",
              "\n",
              "  <style>\n",
              "    .colab-df-container {\n",
              "      display:flex;\n",
              "      gap: 12px;\n",
              "    }\n",
              "\n",
              "    .colab-df-convert {\n",
              "      background-color: #E8F0FE;\n",
              "      border: none;\n",
              "      border-radius: 50%;\n",
              "      cursor: pointer;\n",
              "      display: none;\n",
              "      fill: #1967D2;\n",
              "      height: 32px;\n",
              "      padding: 0 0 0 0;\n",
              "      width: 32px;\n",
              "    }\n",
              "\n",
              "    .colab-df-convert:hover {\n",
              "      background-color: #E2EBFA;\n",
              "      box-shadow: 0px 1px 2px rgba(60, 64, 67, 0.3), 0px 1px 3px 1px rgba(60, 64, 67, 0.15);\n",
              "      fill: #174EA6;\n",
              "    }\n",
              "\n",
              "    .colab-df-buttons div {\n",
              "      margin-bottom: 4px;\n",
              "    }\n",
              "\n",
              "    [theme=dark] .colab-df-convert {\n",
              "      background-color: #3B4455;\n",
              "      fill: #D2E3FC;\n",
              "    }\n",
              "\n",
              "    [theme=dark] .colab-df-convert:hover {\n",
              "      background-color: #434B5C;\n",
              "      box-shadow: 0px 1px 3px 1px rgba(0, 0, 0, 0.15);\n",
              "      filter: drop-shadow(0px 1px 2px rgba(0, 0, 0, 0.3));\n",
              "      fill: #FFFFFF;\n",
              "    }\n",
              "  </style>\n",
              "\n",
              "    <script>\n",
              "      const buttonEl =\n",
              "        document.querySelector('#df-14211516-4a44-4093-8646-d39e2dd74202 button.colab-df-convert');\n",
              "      buttonEl.style.display =\n",
              "        google.colab.kernel.accessAllowed ? 'block' : 'none';\n",
              "\n",
              "      async function convertToInteractive(key) {\n",
              "        const element = document.querySelector('#df-14211516-4a44-4093-8646-d39e2dd74202');\n",
              "        const dataTable =\n",
              "          await google.colab.kernel.invokeFunction('convertToInteractive',\n",
              "                                                    [key], {});\n",
              "        if (!dataTable) return;\n",
              "\n",
              "        const docLinkHtml = 'Like what you see? Visit the ' +\n",
              "          '<a target=\"_blank\" href=https://colab.research.google.com/notebooks/data_table.ipynb>data table notebook</a>'\n",
              "          + ' to learn more about interactive tables.';\n",
              "        element.innerHTML = '';\n",
              "        dataTable['output_type'] = 'display_data';\n",
              "        await google.colab.output.renderOutput(dataTable, element);\n",
              "        const docLink = document.createElement('div');\n",
              "        docLink.innerHTML = docLinkHtml;\n",
              "        element.appendChild(docLink);\n",
              "      }\n",
              "    </script>\n",
              "  </div>\n",
              "\n",
              "\n",
              "    <div id=\"df-462e196c-7eb0-4bee-9105-78da1fad6ff2\">\n",
              "      <button class=\"colab-df-quickchart\" onclick=\"quickchart('df-462e196c-7eb0-4bee-9105-78da1fad6ff2')\"\n",
              "                title=\"Suggest charts\"\n",
              "                style=\"display:none;\">\n",
              "\n",
              "<svg xmlns=\"http://www.w3.org/2000/svg\" height=\"24px\"viewBox=\"0 0 24 24\"\n",
              "     width=\"24px\">\n",
              "    <g>\n",
              "        <path d=\"M19 3H5c-1.1 0-2 .9-2 2v14c0 1.1.9 2 2 2h14c1.1 0 2-.9 2-2V5c0-1.1-.9-2-2-2zM9 17H7v-7h2v7zm4 0h-2V7h2v10zm4 0h-2v-4h2v4z\"/>\n",
              "    </g>\n",
              "</svg>\n",
              "      </button>\n",
              "\n",
              "<style>\n",
              "  .colab-df-quickchart {\n",
              "      --bg-color: #E8F0FE;\n",
              "      --fill-color: #1967D2;\n",
              "      --hover-bg-color: #E2EBFA;\n",
              "      --hover-fill-color: #174EA6;\n",
              "      --disabled-fill-color: #AAA;\n",
              "      --disabled-bg-color: #DDD;\n",
              "  }\n",
              "\n",
              "  [theme=dark] .colab-df-quickchart {\n",
              "      --bg-color: #3B4455;\n",
              "      --fill-color: #D2E3FC;\n",
              "      --hover-bg-color: #434B5C;\n",
              "      --hover-fill-color: #FFFFFF;\n",
              "      --disabled-bg-color: #3B4455;\n",
              "      --disabled-fill-color: #666;\n",
              "  }\n",
              "\n",
              "  .colab-df-quickchart {\n",
              "    background-color: var(--bg-color);\n",
              "    border: none;\n",
              "    border-radius: 50%;\n",
              "    cursor: pointer;\n",
              "    display: none;\n",
              "    fill: var(--fill-color);\n",
              "    height: 32px;\n",
              "    padding: 0;\n",
              "    width: 32px;\n",
              "  }\n",
              "\n",
              "  .colab-df-quickchart:hover {\n",
              "    background-color: var(--hover-bg-color);\n",
              "    box-shadow: 0 1px 2px rgba(60, 64, 67, 0.3), 0 1px 3px 1px rgba(60, 64, 67, 0.15);\n",
              "    fill: var(--button-hover-fill-color);\n",
              "  }\n",
              "\n",
              "  .colab-df-quickchart-complete:disabled,\n",
              "  .colab-df-quickchart-complete:disabled:hover {\n",
              "    background-color: var(--disabled-bg-color);\n",
              "    fill: var(--disabled-fill-color);\n",
              "    box-shadow: none;\n",
              "  }\n",
              "\n",
              "  .colab-df-spinner {\n",
              "    border: 2px solid var(--fill-color);\n",
              "    border-color: transparent;\n",
              "    border-bottom-color: var(--fill-color);\n",
              "    animation:\n",
              "      spin 1s steps(1) infinite;\n",
              "  }\n",
              "\n",
              "  @keyframes spin {\n",
              "    0% {\n",
              "      border-color: transparent;\n",
              "      border-bottom-color: var(--fill-color);\n",
              "      border-left-color: var(--fill-color);\n",
              "    }\n",
              "    20% {\n",
              "      border-color: transparent;\n",
              "      border-left-color: var(--fill-color);\n",
              "      border-top-color: var(--fill-color);\n",
              "    }\n",
              "    30% {\n",
              "      border-color: transparent;\n",
              "      border-left-color: var(--fill-color);\n",
              "      border-top-color: var(--fill-color);\n",
              "      border-right-color: var(--fill-color);\n",
              "    }\n",
              "    40% {\n",
              "      border-color: transparent;\n",
              "      border-right-color: var(--fill-color);\n",
              "      border-top-color: var(--fill-color);\n",
              "    }\n",
              "    60% {\n",
              "      border-color: transparent;\n",
              "      border-right-color: var(--fill-color);\n",
              "    }\n",
              "    80% {\n",
              "      border-color: transparent;\n",
              "      border-right-color: var(--fill-color);\n",
              "      border-bottom-color: var(--fill-color);\n",
              "    }\n",
              "    90% {\n",
              "      border-color: transparent;\n",
              "      border-bottom-color: var(--fill-color);\n",
              "    }\n",
              "  }\n",
              "</style>\n",
              "\n",
              "      <script>\n",
              "        async function quickchart(key) {\n",
              "          const quickchartButtonEl =\n",
              "            document.querySelector('#' + key + ' button');\n",
              "          quickchartButtonEl.disabled = true;  // To prevent multiple clicks.\n",
              "          quickchartButtonEl.classList.add('colab-df-spinner');\n",
              "          try {\n",
              "            const charts = await google.colab.kernel.invokeFunction(\n",
              "                'suggestCharts', [key], {});\n",
              "          } catch (error) {\n",
              "            console.error('Error during call to suggestCharts:', error);\n",
              "          }\n",
              "          quickchartButtonEl.classList.remove('colab-df-spinner');\n",
              "          quickchartButtonEl.classList.add('colab-df-quickchart-complete');\n",
              "        }\n",
              "        (() => {\n",
              "          let quickchartButtonEl =\n",
              "            document.querySelector('#df-462e196c-7eb0-4bee-9105-78da1fad6ff2 button');\n",
              "          quickchartButtonEl.style.display =\n",
              "            google.colab.kernel.accessAllowed ? 'block' : 'none';\n",
              "        })();\n",
              "      </script>\n",
              "    </div>\n",
              "\n",
              "    </div>\n",
              "  </div>\n"
            ],
            "application/vnd.google.colaboratory.intrinsic+json": {
              "type": "dataframe",
              "variable_name": "aapl",
              "summary": "{\n  \"name\": \"aapl\",\n  \"rows\": 259,\n  \"fields\": [\n    {\n      \"column\": \"Date\",\n      \"properties\": {\n        \"dtype\": \"date\",\n        \"min\": \"2023-12-26 00:00:00\",\n        \"max\": \"2025-01-06 00:00:00\",\n        \"num_unique_values\": 259,\n        \"samples\": [\n          \"2024-04-02 00:00:00\",\n          \"2024-03-01 00:00:00\",\n          \"2024-01-09 00:00:00\"\n        ],\n        \"semantic_type\": \"\",\n        \"description\": \"\"\n      }\n    },\n    {\n      \"column\": \"Close\",\n      \"properties\": {\n        \"dtype\": \"number\",\n        \"std\": 25.683017364649057,\n        \"min\": 164.00946044921875,\n        \"max\": 258.39666748046875,\n        \"num_unique_values\": 256,\n        \"samples\": [\n          232.30960083007812,\n          180.58753967285156,\n          164.00946044921875\n        ],\n        \"semantic_type\": \"\",\n        \"description\": \"\"\n      }\n    },\n    {\n      \"column\": \"High\",\n      \"properties\": {\n        \"dtype\": \"number\",\n        \"std\": 25.78495330220431,\n        \"min\": 165.40104980433753,\n        \"max\": 259.47408555117545,\n        \"num_unique_values\": 259,\n        \"samples\": [\n          168.3234297194346,\n          179.44625436004063,\n          183.80397397190293\n        ],\n        \"semantic_type\": \"\",\n        \"description\": \"\"\n      }\n    },\n    {\n      \"column\": \"Low\",\n      \"properties\": {\n        \"dtype\": \"number\",\n        \"std\": 25.317369769723815,\n        \"min\": 163.09498527768548,\n        \"max\": 257.0100282923795,\n        \"num_unique_values\": 259,\n        \"samples\": [\n          167.22009256480143,\n          176.31517027538303,\n          181.40156892129536\n        ],\n        \"semantic_type\": \"\",\n        \"description\": \"\"\n      }\n    },\n    {\n      \"column\": \"Open\",\n      \"properties\": {\n        \"dtype\": \"number\",\n        \"std\": 25.541837458911072,\n        \"min\": 164.3573882766078,\n        \"max\": 257.56867823862046,\n        \"num_unique_values\": 259,\n        \"samples\": [\n          168.0649959882119,\n          178.47214167082092,\n          182.58292017691045\n        ],\n        \"semantic_type\": \"\",\n        \"description\": \"\"\n      }\n    },\n    {\n      \"column\": \"Volume\",\n      \"properties\": {\n        \"dtype\": \"number\",\n        \"std\": 30539632,\n        \"min\": 23234700,\n        \"max\": 318679900,\n        \"num_unique_values\": 259,\n        \"samples\": [\n          49329500,\n          73488000,\n          42841800\n        ],\n        \"semantic_type\": \"\",\n        \"description\": \"\"\n      }\n    },\n    {\n      \"column\": \"sma\",\n      \"properties\": {\n        \"dtype\": \"number\",\n        \"std\": 25.490884980539647,\n        \"min\": 165.55613403320314,\n        \"max\": 255.89671630859374,\n        \"num_unique_values\": 255,\n        \"samples\": [\n          227.09174499511718,\n          182.65837707519532,\n          166.32549133300782\n        ],\n        \"semantic_type\": \"\",\n        \"description\": \"\"\n      }\n    },\n    {\n      \"column\": \"ema\",\n      \"properties\": {\n        \"dtype\": \"number\",\n        \"std\": 25.385971071609312,\n        \"min\": 166.08969877126202,\n        \"max\": 255.33720269763006,\n        \"num_unique_values\": 255,\n        \"samples\": [\n          226.1812299479239,\n          184.12724593048728,\n          167.44221156598192\n        ],\n        \"semantic_type\": \"\",\n        \"description\": \"\"\n      }\n    },\n    {\n      \"column\": \"wma\",\n      \"properties\": {\n        \"dtype\": \"number\",\n        \"std\": 25.57623169714,\n        \"min\": 165.33082784016926,\n        \"max\": 256.29242451985675,\n        \"num_unique_values\": 255,\n        \"samples\": [\n          226.39685668945313,\n          183.48697814941406,\n          167.18430887858074\n        ],\n        \"semantic_type\": \"\",\n        \"description\": \"\"\n      }\n    },\n    {\n      \"column\": \"rsi_5\",\n      \"properties\": {\n        \"dtype\": \"number\",\n        \"std\": 21.767579227068662,\n        \"min\": 2.1941238190090924,\n        \"max\": 95.55345190412149,\n        \"num_unique_values\": 253,\n        \"samples\": [\n          37.281821933293024,\n          44.562037453697386,\n          54.981478805340856\n        ],\n        \"semantic_type\": \"\",\n        \"description\": \"\"\n      }\n    },\n    {\n      \"column\": \"mtm_5\",\n      \"properties\": {\n        \"dtype\": \"number\",\n        \"std\": 6.652764949476325,\n        \"min\": -15.622299194335938,\n        \"max\": 23.440383911132812,\n        \"num_unique_values\": 252,\n        \"samples\": [\n          -4.3945465087890625,\n          3.6532440185546875,\n          17.119964599609375\n        ],\n        \"semantic_type\": \"\",\n        \"description\": \"\"\n      }\n    },\n    {\n      \"column\": \"cci_5\",\n      \"properties\": {\n        \"dtype\": \"number\",\n        \"std\": 94.30176043721654,\n        \"min\": -166.6666666666675,\n        \"max\": 166.66666666667695,\n        \"num_unique_values\": 255,\n        \"samples\": [\n          -74.5420526586546,\n          93.02844414376072,\n          114.48861235201807\n        ],\n        \"semantic_type\": \"\",\n        \"description\": \"\"\n      }\n    },\n    {\n      \"column\": \"wr_5\",\n      \"properties\": {\n        \"dtype\": \"number\",\n        \"std\": 31.04559761185656,\n        \"min\": -100.0,\n        \"max\": 0.0,\n        \"num_unique_values\": 253,\n        \"samples\": [\n          -94.23068216371841,\n          -3.3706439607296246,\n          -11.026007533592864\n        ],\n        \"semantic_type\": \"\",\n        \"description\": \"\"\n      }\n    },\n    {\n      \"column\": \"atr_5\",\n      \"properties\": {\n        \"dtype\": \"number\",\n        \"std\": 1.1502947710681526,\n        \"min\": 2.173905861050081,\n        \"max\": 9.445448569629486,\n        \"num_unique_values\": 254,\n        \"samples\": [\n          4.5203040894091755,\n          3.2617481794619994,\n          2.713098243099473\n        ],\n        \"semantic_type\": \"\",\n        \"description\": \"\"\n      }\n    },\n    {\n      \"column\": \"target\",\n      \"properties\": {\n        \"dtype\": \"number\",\n        \"std\": 0,\n        \"min\": -1,\n        \"max\": 1,\n        \"num_unique_values\": 3,\n        \"samples\": [\n          -1,\n          1,\n          0\n        ],\n        \"semantic_type\": \"\",\n        \"description\": \"\"\n      }\n    }\n  ]\n}"
            }
          },
          "metadata": {},
          "execution_count": 24
        }
      ]
    },
    {
      "cell_type": "code",
      "source": [
        "aapl.iloc[5:-5].to_csv('2024_2025_appl_5d.csv')"
      ],
      "metadata": {
        "id": "vHGUv7vcHXak"
      },
      "execution_count": 25,
      "outputs": []
    },
    {
      "cell_type": "markdown",
      "source": [
        "***Note*** - have to get rid of the first and last 5 datapoints because of forward and backward looking indicators have a max reach of -5 and +5 days"
      ],
      "metadata": {
        "id": "fzlRdQe2Hq-n"
      }
    },
    {
      "cell_type": "code",
      "source": [
        "aapl['target'].value_counts()"
      ],
      "metadata": {
        "colab": {
          "base_uri": "https://localhost:8080/",
          "height": 210
        },
        "id": "qBG13Q8pHdUk",
        "outputId": "5ee16e5d-1097-4464-c3ad-78784434b77c"
      },
      "execution_count": 26,
      "outputs": [
        {
          "output_type": "execute_result",
          "data": {
            "text/plain": [
              "target\n",
              "-1    141\n",
              " 1    113\n",
              " 0      5\n",
              "Name: count, dtype: int64"
            ],
            "text/html": [
              "<div>\n",
              "<style scoped>\n",
              "    .dataframe tbody tr th:only-of-type {\n",
              "        vertical-align: middle;\n",
              "    }\n",
              "\n",
              "    .dataframe tbody tr th {\n",
              "        vertical-align: top;\n",
              "    }\n",
              "\n",
              "    .dataframe thead th {\n",
              "        text-align: right;\n",
              "    }\n",
              "</style>\n",
              "<table border=\"1\" class=\"dataframe\">\n",
              "  <thead>\n",
              "    <tr style=\"text-align: right;\">\n",
              "      <th></th>\n",
              "      <th>count</th>\n",
              "    </tr>\n",
              "    <tr>\n",
              "      <th>target</th>\n",
              "      <th></th>\n",
              "    </tr>\n",
              "  </thead>\n",
              "  <tbody>\n",
              "    <tr>\n",
              "      <th>-1</th>\n",
              "      <td>141</td>\n",
              "    </tr>\n",
              "    <tr>\n",
              "      <th>1</th>\n",
              "      <td>113</td>\n",
              "    </tr>\n",
              "    <tr>\n",
              "      <th>0</th>\n",
              "      <td>5</td>\n",
              "    </tr>\n",
              "  </tbody>\n",
              "</table>\n",
              "</div><br><label><b>dtype:</b> int64</label>"
            ]
          },
          "metadata": {},
          "execution_count": 26
        }
      ]
    },
    {
      "cell_type": "markdown",
      "source": [
        "# 5. Combine into a single Ticker --> CSV function"
      ],
      "metadata": {
        "id": "Sa5O4eH4JCNp"
      }
    },
    {
      "cell_type": "code",
      "source": [
        "def get_yr_5d_data(ticker):\n",
        "  df = yf.download(ticker, start='2023-12-26', end='2025-01-07')\n",
        "  encode_all(df)\n",
        "  encode_target(df)\n",
        "  df.iloc[5:-5].to_csv(f'2024_2025_{ticker}_5d.csv')"
      ],
      "metadata": {
        "id": "eXRwY8ZqJGQ0"
      },
      "execution_count": 27,
      "outputs": []
    },
    {
      "cell_type": "code",
      "source": [
        "for asset in assets: get_yr_5d_data(asset)"
      ],
      "metadata": {
        "colab": {
          "base_uri": "https://localhost:8080/"
        },
        "id": "LjBPGd-oJRrB",
        "outputId": "8519ac72-765a-42e5-89f2-2074473cbb84"
      },
      "execution_count": 28,
      "outputs": [
        {
          "output_type": "stream",
          "name": "stderr",
          "text": [
            "/tmp/ipython-input-27-3106465167.py:2: FutureWarning: YF.download() has changed argument auto_adjust default to True\n",
            "  df = yf.download(ticker, start='2023-12-26', end='2025-01-07')\n",
            "\r[*********************100%***********************]  1 of 1 completed\n",
            "/tmp/ipython-input-27-3106465167.py:2: FutureWarning: YF.download() has changed argument auto_adjust default to True\n",
            "  df = yf.download(ticker, start='2023-12-26', end='2025-01-07')\n",
            "[*********************100%***********************]  1 of 1 completed\n",
            "/tmp/ipython-input-27-3106465167.py:2: FutureWarning: YF.download() has changed argument auto_adjust default to True\n",
            "  df = yf.download(ticker, start='2023-12-26', end='2025-01-07')\n",
            "[*********************100%***********************]  1 of 1 completed\n",
            "/tmp/ipython-input-27-3106465167.py:2: FutureWarning: YF.download() has changed argument auto_adjust default to True\n",
            "  df = yf.download(ticker, start='2023-12-26', end='2025-01-07')\n",
            "[*********************100%***********************]  1 of 1 completed\n",
            "/tmp/ipython-input-27-3106465167.py:2: FutureWarning: YF.download() has changed argument auto_adjust default to True\n",
            "  df = yf.download(ticker, start='2023-12-26', end='2025-01-07')\n",
            "[*********************100%***********************]  1 of 1 completed\n",
            "/tmp/ipython-input-27-3106465167.py:2: FutureWarning: YF.download() has changed argument auto_adjust default to True\n",
            "  df = yf.download(ticker, start='2023-12-26', end='2025-01-07')\n",
            "[*********************100%***********************]  1 of 1 completed\n",
            "/tmp/ipython-input-27-3106465167.py:2: FutureWarning: YF.download() has changed argument auto_adjust default to True\n",
            "  df = yf.download(ticker, start='2023-12-26', end='2025-01-07')\n",
            "[*********************100%***********************]  1 of 1 completed\n",
            "/tmp/ipython-input-27-3106465167.py:2: FutureWarning: YF.download() has changed argument auto_adjust default to True\n",
            "  df = yf.download(ticker, start='2023-12-26', end='2025-01-07')\n",
            "[*********************100%***********************]  1 of 1 completed\n",
            "/tmp/ipython-input-27-3106465167.py:2: FutureWarning: YF.download() has changed argument auto_adjust default to True\n",
            "  df = yf.download(ticker, start='2023-12-26', end='2025-01-07')\n",
            "[*********************100%***********************]  1 of 1 completed\n",
            "/tmp/ipython-input-27-3106465167.py:2: FutureWarning: YF.download() has changed argument auto_adjust default to True\n",
            "  df = yf.download(ticker, start='2023-12-26', end='2025-01-07')\n",
            "[*********************100%***********************]  1 of 1 completed\n"
          ]
        }
      ]
    }
  ]
}